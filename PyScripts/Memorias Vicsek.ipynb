{
 "cells": [
  {
   "cell_type": "markdown",
   "metadata": {},
   "source": [
    "# Teoría"
   ]
  },
  {
   "cell_type": "code",
   "execution_count": null,
   "metadata": {
    "collapsed": true
   },
   "outputs": [],
   "source": []
  },
  {
   "cell_type": "markdown",
   "metadata": {},
   "source": [
    "# Implementación"
   ]
  },
  {
   "cell_type": "markdown",
   "metadata": {},
   "source": [
    "Necesitamos crear un área de LxL contínua:\n",
    "definimos los arreglos **r**(N,2) y **v**(N,2), donde tengo N partículas cuya posición y velocidad están dadas por **r** y **v**.\n",
    "\n",
    "A la caja le pondremos condiciones de contorno periódicas.\n",
    "\n",
    "\n",
    "\n",
    "La densidad $\\rho = N/L^2$ jugará un rol importante a la hora de calcular el punto crítico. \n",
    "\n",
    "\n",
    "\n",
    "\n"
   ]
  },
  {
   "cell_type": "markdown",
   "metadata": {},
   "source": [
    "## Parámetros de entrada"
   ]
  },
  {
   "cell_type": "markdown",
   "metadata": {},
   "source": [
    "$N$: número de partículas.\n",
    "\n",
    "$L$: lado de la caja cuadrada.\n",
    "\n",
    "$V0$: magnitud de velocidad de las partículas.\n",
    "\n",
    "$R$: radio de visibilidad de las partículas.\n",
    "\n",
    "puntos: cantidad de puntos de ruido.\n",
    "\n",
    "$\\eta_0$: ruido inicial\n",
    "\n",
    "$\\eta_f$: ruido final\n"
   ]
  },
  {
   "cell_type": "markdown",
   "metadata": {},
   "source": [
    "## 1 paso de la simulación"
   ]
  },
  {
   "cell_type": "code",
   "execution_count": null,
   "metadata": {
    "collapsed": true
   },
   "outputs": [],
   "source": []
  },
  {
   "cell_type": "code",
   "execution_count": 9,
   "metadata": {
    "collapsed": true
   },
   "outputs": [],
   "source": []
  }
 ],
 "metadata": {
  "kernelspec": {
   "display_name": "Python 3",
   "language": "python",
   "name": "python3"
  },
  "language_info": {
   "codemirror_mode": {
    "name": "ipython",
    "version": 3
   },
   "file_extension": ".py",
   "mimetype": "text/x-python",
   "name": "python",
   "nbconvert_exporter": "python",
   "pygments_lexer": "ipython3",
   "version": "3.6.8"
  }
 },
 "nbformat": 4,
 "nbformat_minor": 2
}
