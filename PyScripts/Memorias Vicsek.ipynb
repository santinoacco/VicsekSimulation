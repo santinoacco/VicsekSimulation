{
 "cells": [
  {
   "cell_type": "markdown",
   "metadata": {},
   "source": [
    "# _Implementación_"
   ]
  },
  {
   "cell_type": "markdown",
   "metadata": {},
   "source": [
    "## ModuloSimulaciones.f90\n",
    "\n",
    "Es un módulo de rutinas cuyo propósito es satisfacer de manera general utilidades recurrentes en el análisis de datos. Por ello encontraremos las siguientes funciones:\n",
    "- SalidaDatosTabla_tvsX: Imprime un tabla tabulada para varios valores de X(t)\n",
    "\n",
    "- WestRecurence: calcula el promedio y la varianza de una variable por el método de West de manera recurrente.\n",
    "\n",
    "- Gc_Discreto: calcula ls correlación espacial 2D discreta de una red.\n",
    "\n",
    "- lectura_matrix: lee una matriz con un dado formato\n",
    "\n",
    "- ACT_c: calcula la autocorrelación temporal conectada de un vector.\n",
    "\n",
    "- RANMAR: generador de números aleatorios."
   ]
  },
  {
   "cell_type": "markdown",
   "metadata": {},
   "source": [
    "## ModuloSim_Vicsek.f90\n",
    "\n",
    "Por otro lado, en este módulo encontraremos rutinas fundamentales para la implementación del modelo de Vicsek, encontraremos:\n",
    "\n",
    "- _InitializeState_: rutina que crea un estado inicial aleatorio a partir de los parámetros deseados y permite imprimir el resultado en pantalla.\n",
    "\n",
    "- _Distancia_: calcula la distancia entre dos puntos teniendo en cuenta la condición de contorno periódica.\n",
    "\n",
    "- _SumNeighboursVelocity_: calcula la velocidad promedio de los vecinos de una dado punto y también guarda la cantidad de vecinos.\n",
    "\n",
    "- *DinamicaVicsek2D_Angular*: implementa la dinámica angular para un conjunto de puntos en el plano.\n",
    "\n",
    "- *DinamicaVicsek2D_Vectorial*: implementa la dinámica vectorial para un conjunto de puntos en el plano.\n"
   ]
  },
  {
   "cell_type": "markdown",
   "metadata": {},
   "source": [
    "## Vicsek.f90"
   ]
  },
  {
   "cell_type": "markdown",
   "metadata": {},
   "source": [
    "Necesitamos crear un área de LxL contínua:\n",
    "definimos los arreglos **r**(N,2) y **v**(N,2), donde tengo N partículas cuya posición y velocidad están dadas por **r** y **v**.\n",
    "\n",
    "A la caja le pondremos condiciones de contorno periódicas.\n",
    "\n",
    "\n",
    "\n",
    "La densidad $\\rho = N/L^2$ jugará un rol importante a la hora de calcular el punto crítico. \n",
    "\n",
    "\n",
    "\n",
    "\n"
   ]
  },
  {
   "cell_type": "markdown",
   "metadata": {},
   "source": [
    "### Parámetros de entrada"
   ]
  },
  {
   "cell_type": "markdown",
   "metadata": {},
   "source": [
    "$N$: número de partículas.\n",
    "\n",
    "$L$: lado de la caja cuadrada.\n",
    "\n",
    "$V0$: magnitud de velocidad de las partículas.\n",
    "\n",
    "$R$: radio de visibilidad de las partículas.\n",
    "\n",
    "puntos: cantidad de puntos de ruido.\n",
    "\n",
    "$\\eta_0$: ruido inicial\n",
    "\n",
    "$\\eta_f$: ruido final\n"
   ]
  },
  {
   "cell_type": "markdown",
   "metadata": {},
   "source": [
    "### Un paso de la simulación"
   ]
  },
  {
   "cell_type": "code",
   "execution_count": null,
   "metadata": {
    "collapsed": true
   },
   "outputs": [],
   "source": []
  },
  {
   "cell_type": "code",
   "execution_count": 9,
   "metadata": {
    "collapsed": true
   },
   "outputs": [],
   "source": []
  }
 ],
 "metadata": {
  "kernelspec": {
   "display_name": "Python 3",
   "language": "python",
   "name": "python3"
  },
  "language_info": {
   "codemirror_mode": {
    "name": "ipython",
    "version": 3
   },
   "file_extension": ".py",
   "mimetype": "text/x-python",
   "name": "python",
   "nbconvert_exporter": "python",
   "pygments_lexer": "ipython3",
   "version": "3.6.8"
  }
 },
 "nbformat": 4,
 "nbformat_minor": 2
}
