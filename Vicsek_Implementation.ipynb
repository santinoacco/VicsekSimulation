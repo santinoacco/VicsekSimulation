{
 "cells": [
  {
   "cell_type": "code",
   "execution_count": 54,
   "metadata": {
    "collapsed": true
   },
   "outputs": [],
   "source": [
    "import sys\n",
    "sys.path.insert(0, 'C:/Users/Santiago/Desktop/Facultad/Fisica/Simulaciones')\n",
    "import ModSimPy as MSP\n",
    "import numpy as np\n",
    "import math\n",
    "import matplotlib.pyplot as plt"
   ]
  },
  {
   "cell_type": "code",
   "execution_count": 55,
   "metadata": {},
   "outputs": [
    {
     "name": "stdout",
     "output_type": "stream",
     "text": [
      "Using matplotlib backend: Qt5Agg\n"
     ]
    }
   ],
   "source": [
    "%matplotlib"
   ]
  },
  {
   "cell_type": "markdown",
   "metadata": {},
   "source": [
    "# Introduction\n",
    "\n",
    "The aim of this notebook is to implent step by step the Vicsek Model refereced in https://github.com/santinoacco/VicsekSimulation.\n",
    "\n",
    "## ModSimPy documentation\n",
    "\n",
    "This module contains the 'AnalysisVicsek' class and some subroutines, from which we will only use: 'Graficador' and 'ExtractTauEq'.\n",
    "\n",
    "More detail will be given when required along the analysis. However, to begin with, lets comment on the initialization of the \n",
    "'AnalysisVicsek' class.\n",
    "\n",
    "Firstly, one would run the Vicsek2D simulation, following the REEDME.md file, which will generate the dessired Outfiles.\n",
    "\n",
    "Secondly, one initiates the AnalysisVicsek object as:\n",
    "ObjV= MSP.AnalysisVicsek(run_number, inFiles, type_of_Analysis, parameters)\n",
    "\n",
    "> - **run_number**: enumerates the object to keep track. Might be used as index.\n",
    "> - **inFiles**: files to read data from\n",
    "> - **type_of_Analysis**: either 'A' or 'V', again to keep track of the analysis\n",
    "> - **parameters**: [N,v0,rho,MidoCada], basically the same parameters form the file 'Entrada_Parametros_Vicsek.dat'."
   ]
  },
  {
   "cell_type": "markdown",
   "metadata": {},
   "source": [
    "# Step 1: initialization\n",
    "\n",
    "We will divide the objects into *Angular* and *Vectorial*"
   ]
  },
  {
   "cell_type": "code",
   "execution_count": 56,
   "metadata": {
    "collapsed": true
   },
   "outputs": [],
   "source": [
    "nroFilesA=0\n",
    "nroFilesV=0\n",
    "\n",
    "InFile=[]\n",
    "AngInFiles=[]\n",
    "VecInFiles=[]"
   ]
  },
  {
   "cell_type": "markdown",
   "metadata": {},
   "source": [
    "### Append files to be red:"
   ]
  },
  {
   "cell_type": "code",
   "execution_count": 57,
   "metadata": {
    "collapsed": true
   },
   "outputs": [],
   "source": [
    "for j in range(10,15):\n",
    "    namearch  = 'VAvsV_variandoN\\Entrada_Parametros_Vicsek'+str(j)+'.dat'\n",
    "    acorrFile='VAvsV_variandoN\\Acorr_VA'+str(j)+'.dat'\n",
    "    PhiFile='VAvsV_variandoN\\CrudosVicsekA'+str(j)+'.dat'\n",
    "    PhiSqrFile='VAvsV_variandoN\\CrudosVicsekA'+str(j)+'_Sqr.dat'\n",
    "    AngInFiles.append([acorrFile,PhiFile,PhiSqrFile])\n",
    "    nroFilesA+=1\n",
    "    InFile.append(namearch)"
   ]
  },
  {
   "cell_type": "markdown",
   "metadata": {},
   "source": [
    "*Note 1.1*: the *Vectorial* analysis requires an extra parameter, G, so add it here.\n",
    "\n",
    "*Note 1.2*: the number of analysis we will do for this type is going to be 3 instead of 5. We will take N = 225,625,1024."
   ]
  },
  {
   "cell_type": "code",
   "execution_count": 58,
   "metadata": {
    "collapsed": true
   },
   "outputs": [],
   "source": [
    "G=0\n",
    "decG = math.modf(G)[0]\n",
    "for j in range(10,15,2):\n",
    "    namearch  = 'VAvsV_variandoN\\Entrada_Parametros_Vicsek'+str(j)+'.dat'\n",
    "    acorrFile='VAvsV_variandoN\\Acorr_VV'+str(j)+'_G'+str(int(G))+'p'+str(int(decG*10))+'.dat'\n",
    "    PhiFile='VAvsV_variandoN\\CrudosVicsekV'+str(j)+'_G'+str(int(G))+'p'+str(int(decG*10))+'.dat'\n",
    "    PhiSqrFile='VAvsV_variandoN\\CrudosVicsekvV'+str(j)+'_G'+str(int(G))+'p'+str(int(decG*10))+'.dat'\n",
    "    VecInFiles.append([acorrFile,PhiFile,PhiSqrFile])\n",
    "    nroFilesV+=1"
   ]
  },
  {
   "cell_type": "markdown",
   "metadata": {},
   "source": [
    "### Get parameters\n",
    "This are the same for both types of analysis."
   ]
  },
  {
   "cell_type": "code",
   "execution_count": 59,
   "metadata": {},
   "outputs": [
    {
     "name": "stdout",
     "output_type": "stream",
     "text": [
      "N = [225]\n",
      "rho = [1.0]\n",
      "$\\Delta$ t = [200]\n",
      "N = [225, 400]\n",
      "rho = [1.0, 1.0]\n",
      "$\\Delta$ t = [200, 200]\n",
      "N = [225, 400, 625]\n",
      "rho = [1.0, 1.0, 1.0]\n",
      "$\\Delta$ t = [200, 200, 200]\n",
      "N = [225, 400, 625, 841]\n",
      "rho = [1.0, 1.0, 1.0, 1.0]\n",
      "$\\Delta$ t = [200, 200, 200, 200]\n",
      "N = [225, 400, 625, 841, 1024]\n",
      "rho = [1.0, 1.0, 1.0, 1.0, 1.0]\n",
      "$\\Delta$ t = [200, 200, 200, 200, 200]\n"
     ]
    }
   ],
   "source": [
    "N=[]\n",
    "v0=[]\n",
    "rho=[]\n",
    "MidoCada=[]\n",
    "\n",
    "parameters=[]\n",
    "for j in range(nroFilesA):\n",
    "    MSP.ReadParameters(InFile[j],N,v0,rho,MidoCada,True)    \n",
    "    parameters.append([N[j],v0[j],rho[j],MidoCada[j]])"
   ]
  },
  {
   "cell_type": "markdown",
   "metadata": {
    "collapsed": true
   },
   "source": [
    "'ReadParameters' from the module MSP: it reads the 'Entrada_Parametrs_Vicsek.dat' kind of files and returns the relevant parameters. If one replaces True for False, then it will not print the parameters.\n",
    "\n",
    "For a more convenient use we store the in the parameters list."
   ]
  },
  {
   "cell_type": "markdown",
   "metadata": {},
   "source": [
    "### Initiate the objects"
   ]
  },
  {
   "cell_type": "code",
   "execution_count": 60,
   "metadata": {
    "collapsed": true
   },
   "outputs": [],
   "source": [
    "VA_OBJ=[]\n",
    "VV_OBJ=[]\n",
    "\n",
    "for j in range(nroFilesA):\n",
    "    VA_OBJ.append(MSP.AnalysisVicsek(j,\n",
    "                                     AngInFiles[j],\n",
    "                                     'A',\n",
    "                                     parameters[j]))\n",
    "parametersV=[parameters[k] for k in range(0,len(parameters),2)]\n",
    "# print(parametersV)\n",
    "for j in range(nroFilesV):\n",
    "    VV_OBJ.append(MSP.AnalysisVicsek(j,\n",
    "                                     VecInFiles[j],\n",
    "                                     'V',\n",
    "                                     parametersV[j]))"
   ]
  },
  {
   "cell_type": "markdown",
   "metadata": {},
   "source": [
    "*Note 1.3*: when we initialize the objects then we can get their attributes. The way this class does that is throw a method called:\n",
    "'getVariables', which takes in as argument the files you want to read data from. It returns the *noise*, *time* and *X variable*."
   ]
  },
  {
   "cell_type": "markdown",
   "metadata": {},
   "source": [
    "Right away we can get the noise array, which we will call $\\eta$. We only get it once, because it will be the same for all analysis."
   ]
  },
  {
   "cell_type": "code",
   "execution_count": 61,
   "metadata": {
    "collapsed": true
   },
   "outputs": [],
   "source": [
    "eta=VA_OBJ[0].vicsekNoise"
   ]
  },
  {
   "cell_type": "markdown",
   "metadata": {},
   "source": [
    "# Step 2: Autocorrelation study"
   ]
  },
  {
   "cell_type": "markdown",
   "metadata": {
    "collapsed": true
   },
   "source": [
    "### Get the Acor and time array for each noise."
   ]
  },
  {
   "cell_type": "code",
   "execution_count": 62,
   "metadata": {
    "collapsed": true
   },
   "outputs": [],
   "source": [
    "tACTANG=[]\n",
    "ACTANG=[]\n",
    "for j in range(nroFilesA):\n",
    "    tACTANG.append(VA_OBJ[j].acorrTime)\n",
    "    ACTANG.append(VA_OBJ[j].acorr)\n",
    "    \n",
    "tACTVEC=[]\n",
    "ACTVEC=[]\n",
    "for j in range(nroFilesV):\n",
    "    tACTVEC.append(VV_OBJ[j].acorrTime)\n",
    "    ACTVEC.append(VV_OBJ[j].acorr)"
   ]
  },
  {
   "cell_type": "markdown",
   "metadata": {},
   "source": [
    "### Plot Acorr as function of time for each $\\eta$"
   ]
  },
  {
   "cell_type": "code",
   "execution_count": 63,
   "metadata": {
    "collapsed": true
   },
   "outputs": [],
   "source": [
    "labels = [r'$\\eta = %s$' % eta[j] for j in range(len(eta))]\n",
    "formatACT=['k.-','r.-','m.-','c.-','b.-','g.-','y.-','gv-','kv-','rv-']\n"
   ]
  },
  {
   "cell_type": "code",
   "execution_count": 64,
   "metadata": {
    "collapsed": true
   },
   "outputs": [],
   "source": [
    "graficoACT_A=[]\n",
    "for k in range(nroFilesA):\n",
    "    tituloAcorr=r'Anuglar - $N = %s$, $\\rho = %s$' %(N[k],rho[k])\n",
    "    graficoACT_A.append(\n",
    "            [[tACTANG[k],ACTANG[k][j],None,formatACT[j],labels[j]]\n",
    "            for j in range(0,len(eta),3)]\n",
    "            )\n",
    "    plt.figure(k)\n",
    "    MSP.Graficador(graficoACT_A[k],'$t [MCS]$','$Acorr$',tituloAcorr)"
   ]
  },
  {
   "cell_type": "code",
   "execution_count": 65,
   "metadata": {
    "collapsed": true
   },
   "outputs": [],
   "source": [
    "graficoACT_V=[]\n",
    "for k in range(nroFilesV):\n",
    "    tituloAcorr='Vectorial - $N = %s$, $\\rho = %s$'% (N[2*k],rho[k])\n",
    "    graficoACT_V.append(\n",
    "            [[tACTVEC[k],ACTVEC[k][j],None,formatACT[j],labels[j]]\n",
    "            for j in range(len(eta))]\n",
    "            )\n",
    "    plt.figure(5+k)\n",
    "    MSP.Graficador(graficoACT_V[k],'$t [MCS]$','$Acorr$',tituloAcorr)"
   ]
  },
  {
   "cell_type": "markdown",
   "metadata": {},
   "source": [
    "We have done that just to check and get an idea of Acorr's behaviour."
   ]
  },
  {
   "cell_type": "markdown",
   "metadata": {},
   "source": [
    "### Extract the equilibrium time, known as $\\tau_{eq}$\n",
    "To do so, we need to define a fuction to fit the curves drawn in the previous cells. And we will need to provide a seed to get that fitting correctly."
   ]
  },
  {
   "cell_type": "code",
   "execution_count": 66,
   "metadata": {
    "collapsed": true
   },
   "outputs": [],
   "source": [
    "def f(x,tau,b,y0): \n",
    "    return b*np.exp(-x/tau) + y0"
   ]
  },
  {
   "cell_type": "code",
   "execution_count": 67,
   "metadata": {},
   "outputs": [
    {
     "name": "stdout",
     "output_type": "stream",
     "text": [
      "CAREFUL: FittingFunction must be like F(x,tau,A,y0,**p)\n",
      "CAREFUL: FittingFunction must be like F(x,tau,A,y0,**p)\n"
     ]
    },
    {
     "name": "stderr",
     "output_type": "stream",
     "text": [
      "C:\\Users\\Santiago\\Anaconda3\\lib\\site-packages\\ipykernel_launcher.py:2: RuntimeWarning: overflow encountered in exp\n",
      "  \n",
      "C:\\Users\\Santiago\\Anaconda3\\lib\\site-packages\\scipy\\optimize\\minpack.py:779: OptimizeWarning: Covariance of the parameters could not be estimated\n",
      "  category=OptimizeWarning)\n"
     ]
    },
    {
     "name": "stdout",
     "output_type": "stream",
     "text": [
      "CAREFUL: FittingFunction must be like F(x,tau,A,y0,**p)\n",
      "CAREFUL: FittingFunction must be like F(x,tau,A,y0,**p)\n",
      "CAREFUL: FittingFunction must be like F(x,tau,A,y0,**p)\n"
     ]
    }
   ],
   "source": [
    "# armar array con las semillas para cada archivo.\n",
    "initGuessA=[[[MidoCada[k],ACTANG[k][j][0],0] for j in range(len(eta))]for k in range(nroFilesA)]#semilla para el ajuste  \n",
    "# obtener el tiempo de eq. para cada curva de ACT\n",
    "tauEq_A=[VA_OBJ[k].get_tauEq(f,initGuessA[k]) for k in range(nroFilesA)]"
   ]
  },
  {
   "cell_type": "code",
   "execution_count": 68,
   "metadata": {},
   "outputs": [
    {
     "name": "stdout",
     "output_type": "stream",
     "text": [
      "CAREFUL: FittingFunction must be like F(x,tau,A,y0,**p)\n",
      "CAREFUL: FittingFunction must be like F(x,tau,A,y0,**p)\n"
     ]
    },
    {
     "name": "stderr",
     "output_type": "stream",
     "text": [
      "C:\\Users\\Santiago\\Anaconda3\\lib\\site-packages\\ipykernel_launcher.py:2: RuntimeWarning: overflow encountered in exp\n",
      "  \n",
      "C:\\Users\\Santiago\\Anaconda3\\lib\\site-packages\\scipy\\optimize\\minpack.py:779: OptimizeWarning: Covariance of the parameters could not be estimated\n",
      "  category=OptimizeWarning)\n"
     ]
    },
    {
     "name": "stdout",
     "output_type": "stream",
     "text": [
      "CAREFUL: FittingFunction must be like F(x,tau,A,y0,**p)\n"
     ]
    }
   ],
   "source": [
    "# armar array con las semillas para cada archivo.\n",
    "initGuessV=[[[MidoCada[k],ACTVEC[k][j][0],0] for j in range(len(eta))]for k in range(nroFilesV)]#semilla para el ajuste  \n",
    "# obtener el tiempo de eq. para cada curva de ACT\n",
    "tauEq_V=[VV_OBJ[k].get_tauEq(f,initGuessV[k]) for k in range(nroFilesV)]"
   ]
  },
  {
   "cell_type": "code",
   "execution_count": 72,
   "metadata": {},
   "outputs": [
    {
     "data": {
      "text/plain": [
       "'Visual result of $\\tau_{eq}$'"
      ]
     },
     "execution_count": 72,
     "metadata": {},
     "output_type": "execute_result"
    }
   ],
   "source": [
    "\"\"\"Visual result of $\\tau_{eq}$\"\"\"\n",
    "\n",
    "# [plt.plot(eta,tauEq_A[k],'o') for k in range(nroFilesA)]\n",
    "# plt.show()\n",
    "\n",
    "# [plt.plot(eta,tauEq_V[k],'o') for k in range(nroFilesV)]\n",
    "# plt.show()\n"
   ]
  },
  {
   "cell_type": "markdown",
   "metadata": {},
   "source": [
    "Now that we have the different $\\tau$s we can calculate the mean value of the *Order Parameter* $|\\phi|$"
   ]
  },
  {
   "cell_type": "markdown",
   "metadata": {},
   "source": [
    "# Step 3: Get and plot relevant cuantities"
   ]
  },
  {
   "cell_type": "markdown",
   "metadata": {},
   "source": [
    "## *Angular*"
   ]
  },
  {
   "cell_type": "code",
   "execution_count": 73,
   "metadata": {
    "collapsed": true
   },
   "outputs": [],
   "source": [
    "PhiMean_A=[VA_OBJ[k].get_OP_Mean(tauEq_A[k]) for k in range(nroFilesA)]\n",
    "PhiVar_A=[VA_OBJ[k].get_OP_Var(tauEq_A[k]) for k in range(nroFilesA)]\n",
    "PhiCB_A=[VA_OBJ[k]._calc_X_BinderCumulant(tauEq_A[k]) for k in range(nroFilesA)]"
   ]
  },
  {
   "cell_type": "code",
   "execution_count": 74,
   "metadata": {
    "collapsed": true
   },
   "outputs": [],
   "source": [
    "StatsLabels_A=[r'Angular - $N=%s$'%N[k] for k in range(nroFilesA)]\n",
    "formatos=['yo--','go--','bo--','ro--','mo--']"
   ]
  },
  {
   "cell_type": "code",
   "execution_count": 75,
   "metadata": {
    "collapsed": true
   },
   "outputs": [],
   "source": [
    "graficoOP=[[eta,PhiMean_A[k],None,formatos[k],StatsLabels_A[k]] for k in range(nroFilesA)]\n",
    "graficoSuc=[[eta,PhiVar_A[k],None,formatos[k],StatsLabels_A[k]]for k in range(nroFilesA)]\n",
    "graficosCB=[[eta[:],PhiCB_A[k][:],None,formatos[k],StatsLabels_A[k]]for k in range(nroFilesA)]"
   ]
  },
  {
   "cell_type": "code",
   "execution_count": 76,
   "metadata": {
    "collapsed": true
   },
   "outputs": [],
   "source": [
    "plt.figure(9)\n",
    "MSP.Graficador(graficoOP,'$\\eta$','<|$\\phi$|>','Limite termodinámico, Angular $vs$ Vectorial')\n",
    "plt.figure(10)\n",
    "MSP.Graficador(graficoSuc,'$\\eta$','Suceptibilidad','Limite termodinámico, Angular $vs$ Vectorial')\n",
    "plt.figure(11)\n",
    "MSP.Graficador(graficosCB,'$\\eta$','CumulanteBinder','Limite termodinámico, Angular $vs$ Vectorial')"
   ]
  },
  {
   "cell_type": "markdown",
   "metadata": {},
   "source": [
    "## *Vectorial*"
   ]
  },
  {
   "cell_type": "code",
   "execution_count": 77,
   "metadata": {
    "collapsed": true
   },
   "outputs": [],
   "source": [
    "PhiMean_V=[VV_OBJ[k].get_OP_Mean(tauEq_V[k]) for k in range(nroFilesV)]\n",
    "PhiVar_V=[VV_OBJ[k].get_OP_Var(tauEq_V[k]) for k in range(nroFilesV)]\n",
    "PhiCB_V=[VV_OBJ[k]._calc_X_BinderCumulant(tauEq_V[k]) for k in range(nroFilesV)]"
   ]
  },
  {
   "cell_type": "code",
   "execution_count": 78,
   "metadata": {
    "collapsed": true
   },
   "outputs": [],
   "source": [
    "StatsLabels_V=[r'Vectorial - $N=%s$'%N[2*k] for k in range(nroFilesV)]\n",
    "formatosV=['y*--','g*--','r*--','m*--','b*--',]"
   ]
  },
  {
   "cell_type": "code",
   "execution_count": 79,
   "metadata": {
    "collapsed": true
   },
   "outputs": [],
   "source": [
    "graficoOP_V=[[eta,PhiMean_V[k],None,formatosV[k],StatsLabels_V[k]] for k in range(nroFilesV)]\n",
    "graficoSuc_V=[[eta,PhiVar_V[k],None,formatosV[k],StatsLabels_V[k]]for k in range(nroFilesV)]\n",
    "graficosCB_V=[[eta[:],PhiCB_V[k][:],None,formatosV[k],StatsLabels_V[k]]for k in range(nroFilesV)]"
   ]
  },
  {
   "cell_type": "code",
   "execution_count": 80,
   "metadata": {
    "collapsed": true
   },
   "outputs": [],
   "source": [
    "plt.figure(9)\n",
    "MSP.Graficador(graficoOP_V,'$\\eta$','<|$\\phi$|>','Limite termodinámico, Angular $vs$ Vectorial')\n",
    "plt.figure(12)\n",
    "MSP.Graficador(graficoSuc_V,'$\\eta$','Suceptibilidad','Limite termodinámico, Angular $vs$ Vectorial')\n",
    "plt.figure(13)\n",
    "MSP.Graficador(graficosCB_V,'$\\eta$','CumulanteBinder','Limite termodinámico, Angular $vs$ Vectorial')"
   ]
  }
 ],
 "metadata": {
  "kernelspec": {
   "display_name": "Python 3",
   "language": "python",
   "name": "python3"
  },
  "language_info": {
   "codemirror_mode": {
    "name": "ipython",
    "version": 3
   },
   "file_extension": ".py",
   "mimetype": "text/x-python",
   "name": "python",
   "nbconvert_exporter": "python",
   "pygments_lexer": "ipython3",
   "version": "3.6.8"
  }
 },
 "nbformat": 4,
 "nbformat_minor": 2
}
